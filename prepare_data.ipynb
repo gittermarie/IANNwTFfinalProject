{
 "cells": [
  {
   "attachments": {},
   "cell_type": "markdown",
   "metadata": {},
   "source": [
    "__Imports__"
   ]
  },
  {
   "cell_type": "code",
   "execution_count": 1,
   "metadata": {},
   "outputs": [
    {
     "name": "stderr",
     "output_type": "stream",
     "text": [
      "c:\\Users\\marta\\anaconda3\\envs\\iannwtf\\lib\\site-packages\\tqdm\\auto.py:22: TqdmWarning: IProgress not found. Please update jupyter and ipywidgets. See https://ipywidgets.readthedocs.io/en/stable/user_install.html\n",
      "  from .autonotebook import tqdm as notebook_tqdm\n"
     ]
    }
   ],
   "source": [
    "import os\n",
    "import tensorflow as tf\n",
    "import tensorflow_datasets as tfds\n",
    "from PIL import Image\n",
    "import numpy as np\n",
    "import cv2\n",
    "import glob"
   ]
  },
  {
   "cell_type": "code",
   "execution_count": 42,
   "metadata": {},
   "outputs": [],
   "source": [
    "paths=['C:/Users/marta/OneDrive/Desktop/Osnabruck/ImplementingANNswithTensorFlow/FinalProject/BrainMRIdataset/Training',\n",
    "       'C:/Users/marta/OneDrive/Desktop/Osnabruck/Implementing ANNswithTensorFlow/FinalProject/BrainMRIdataset/Testing']"
   ]
  },
  {
   "cell_type": "code",
   "execution_count": 5,
   "metadata": {},
   "outputs": [],
   "source": [
    "# Function to display image\n",
    "def imshow(img):\n",
    "    fig,ax=plt.subplots(1,1,figsize=(8,8))\n",
    "    ax.imshow(img,cmap='gray')"
   ]
  },
  {
   "cell_type": "code",
   "execution_count": 8,
   "metadata": {},
   "outputs": [
    {
     "data": {
      "text/plain": [
       "['glioma', 'meningioma', 'notumor', 'pituitary']"
      ]
     },
     "execution_count": 8,
     "metadata": {},
     "output_type": "execute_result"
    }
   ],
   "source": [
    "# Labels\n",
    "#labels=os.listdir(paths[0])\n",
    "#labels"
   ]
  },
  {
   "cell_type": "code",
   "execution_count": 2,
   "metadata": {},
   "outputs": [
    {
     "name": "stdout",
     "output_type": "stream",
     "text": [
      "1\n"
     ]
    }
   ],
   "source": [
    "data_dir = 'C:/Users/marta/OneDrive/Desktop/Osnabruck/ImplementingANNswithTensorFlow/FinalProject/BrainMRIdataset'\n",
    "\n",
    "# Define the class names\n",
    "class_names = ['tumor', 'notumor']\n",
    "\n",
    "# Define a function to get the class label for each image (one-hot encoding: 0 is no tumor; 1 tumor)\n",
    "def get_label(file_path):\n",
    "    parts = tf.strings.split(file_path, sep='/')\n",
    "    # Check if the image is in a tumor subfolder\n",
    "    is_tumor = tf.math.reduce_any(tf.equal(parts[-2], class_names))\n",
    "    return tf.cond(is_tumor, lambda: 0, lambda: 1)\n",
    "\n",
    "print(get_label('C:/Users/marta/OneDrive/Desktop/Osnabruck/ImplementingANNswithTensorFlow/FinalProject/BrainMRIdataset/Training/glioma/Tr-gl_0010.jpg'))\n",
    "\n",
    "#Define a function to read an image from a file path\n",
    "def process_path(file_path):\n",
    "    # Get the class label for this image\n",
    "    label = get_label(file_path)\n",
    "    img = cv2.imread(file_path, cv2.IMREAD_GRAYSCALE)\n",
    "    # Resizing to the default input size of DenseNet121\n",
    "    img = cv2.resize(img, (224, 224))\n",
    "    img = tf.convert_to_tensor(np.array(img))\n",
    "    img = np.dstack([img, img, img])\n",
    "    # Normalize the pixel values to be between 0 and 1\n",
    "    img = img.astype('float32') / 255\n",
    "    return img, label\n",
    "\n",
    "#print(process_path(('C:/Users/marta/OneDrive/Desktop/Osnabruck/ImplementingANNswithTensorFlow/FinalProject/BrainMRIdataset/Testing/notumor/Te-no_0012.jpg')))\n",
    "\n",
    "# Create a list of all sub-directories of training data of all classes, which contain the images\n",
    "train_ds_list = []\n",
    "\n",
    "# A list of files from the training directory\n",
    "train_ds_list.extend(glob.glob('C:/Users/marta/OneDrive/Desktop/Osnabruck/ImplementingANNswithTensorFlow/FinalProject/BrainMRIdataset/Training/*/*.jpg'))\n",
    "\n",
    "# Create a list of all sub-directories of testing data of all classes, which contain the images\n",
    "test_ds_list = []\n",
    "\n",
    "# A list of files from the testing directory\n",
    "test_ds_list.extend(glob.glob('C:/Users/marta/OneDrive/Desktop/Osnabruck/ImplementingANNswithTensorFlow/FinalProject/BrainMRIdataset/Testing/*/*.jpg'))\n",
    "\n",
    "# # Map the file paths to image and label tensors\n",
    "# labeled_train_ds = []\n",
    "\n",
    "# for files in train_ds_list:\n",
    "#     labeled_train_ds.append(process_path(files))\n",
    "\n",
    "# x, y = zip(*labeled_train_ds)\n",
    "# train_ds = tf.data.Dataset.from_tensor_slices((list(x), list(y)))\n",
    "\n",
    "# Map the file paths to image and label tensors\n",
    "labeled_test_ds = []\n",
    "\n",
    "for files in test_ds_list:\n",
    "    labeled_test_ds.append(process_path(files))\n",
    "\n",
    "x, y = zip(*labeled_test_ds)\n",
    "test_ds = tf.data.Dataset.from_tensor_slices((list(x), list(y)))\n",
    "\n",
    "# Define the batch size\n",
    "batch_size = 16\n",
    "\n",
    "# Shuffle and batch the data\n",
    "#train_ds = train_ds.shuffle(buffer_size=1000).batch(batch_size)\n",
    "\n",
    "# # Print the first batch of data\n",
    "# for images, labels in train_ds.take(1):\n",
    "#     print(images.shape)\n",
    "#     print(labels.numpy())"
   ]
  },
  {
   "cell_type": "code",
   "execution_count": 3,
   "metadata": {},
   "outputs": [
    {
     "name": "stdout",
     "output_type": "stream",
     "text": [
      "<class 'tensorflow.python.data.ops.dataset_ops.TensorSliceDataset'>\n",
      "(224, 224, 3)\n",
      "1\n"
     ]
    }
   ],
   "source": [
    "print(type(test_ds))\n",
    "# Print the first batch of data\n",
    "for images, labels in test_ds.take(1):\n",
    "    print(images.shape)\n",
    "    print(labels.numpy())"
   ]
  }
 ],
 "metadata": {
  "kernelspec": {
   "display_name": "iannwtf",
   "language": "python",
   "name": "python3"
  },
  "language_info": {
   "codemirror_mode": {
    "name": "ipython",
    "version": 3
   },
   "file_extension": ".py",
   "mimetype": "text/x-python",
   "name": "python",
   "nbconvert_exporter": "python",
   "pygments_lexer": "ipython3",
   "version": "3.10.6"
  },
  "orig_nbformat": 4
 },
 "nbformat": 4,
 "nbformat_minor": 2
}
